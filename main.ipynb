{
 "cells": [
  {
   "cell_type": "code",
   "execution_count": 4,
   "id": "3db9a0c2-57df-44a3-9ba2-19244ba90378",
   "metadata": {},
   "outputs": [],
   "source": [
    "import numpy as np\n",
    "import pandas as pd\n",
    "import pandas_datareader as web\n",
    "import matplotlib.pyplot as plt\n",
    "import datetime as dt\n",
    "from sklearn.preprocessing import MinMaxScaler\n",
    "from keras.models import Sequential, load_model\n",
    "from keras.layers import Dense, Dropout, LSTM\n",
    "import os\n",
    "\n",
    "os.environ[\"TF_CP_MIN_LOG_LEVEL\"] = \"2\""
   ]
  },
  {
   "cell_type": "code",
   "execution_count": 5,
   "id": "4e32e84d-f2fe-42f1-942b-8a6b187dc929",
   "metadata": {},
   "outputs": [],
   "source": [
    "# Load data\n",
    "company = 'GOOGL'\n",
    "\n",
    "start = dt.datetime(2012, 1, 1)\n",
    "end = dt.datetime(2020, 1, 1)\n",
    "\n",
    "data = web.DataReader(company, 'yahoo', start, end)"
   ]
  },
  {
   "cell_type": "code",
   "execution_count": 6,
   "id": "572f84d3-78ba-40f9-88f2-db58fa817db5",
   "metadata": {},
   "outputs": [],
   "source": [
    "# Prepare Data\n",
    "scalar = MinMaxScaler(feature_range=(0, 1))\n",
    "scaled_data = scalar.fit_transform(data['Close'].values.reshape(-1, 1))\n",
    "\n",
    "prediction_days = 60\n",
    "\n",
    "x_train = []\n",
    "y_train = []\n",
    "\n",
    "for x in range(prediction_days, len(scaled_data)):\n",
    "    x_train.append(scaled_data[x - prediction_days:x, 0])\n",
    "    y_train.append(scaled_data[x, 0])\n",
    "\n",
    "x_train = np.array(x_train)\n",
    "x_train = np.reshape(x_train, (x_train.shape[0], x_train.shape[1], 1))\n",
    "y_train = np.array(y_train)"
   ]
  },
  {
   "cell_type": "code",
   "execution_count": 7,
   "id": "e6bf1ede-3cc3-4c48-82a7-fff5b143fe8d",
   "metadata": {},
   "outputs": [
    {
     "name": "stderr",
     "output_type": "stream",
     "text": [
      "2022-01-17 17:27:22.935038: W tensorflow/core/platform/profile_utils/cpu_utils.cc:128] Failed to get CPU frequency: 0 Hz\n"
     ]
    },
    {
     "name": "stdout",
     "output_type": "stream",
     "text": [
      "Epoch 1/25\n",
      "61/61 [==============================] - 3s 24ms/step - loss: 0.0212\n",
      "Epoch 2/25\n",
      "61/61 [==============================] - 2s 25ms/step - loss: 0.0041\n",
      "Epoch 3/25\n",
      "61/61 [==============================] - 2s 26ms/step - loss: 0.0030\n",
      "Epoch 4/25\n",
      "61/61 [==============================] - 2s 26ms/step - loss: 0.0032\n",
      "Epoch 5/25\n",
      "61/61 [==============================] - 2s 25ms/step - loss: 0.0026\n",
      "Epoch 6/25\n",
      "61/61 [==============================] - 2s 26ms/step - loss: 0.0028\n",
      "Epoch 7/25\n",
      "61/61 [==============================] - 2s 26ms/step - loss: 0.0025\n",
      "Epoch 8/25\n",
      "61/61 [==============================] - 2s 26ms/step - loss: 0.0025\n",
      "Epoch 9/25\n",
      "61/61 [==============================] - 2s 26ms/step - loss: 0.0025\n",
      "Epoch 10/25\n",
      "61/61 [==============================] - 2s 25ms/step - loss: 0.0025\n",
      "Epoch 11/25\n",
      "61/61 [==============================] - 2s 26ms/step - loss: 0.0023\n",
      "Epoch 12/25\n",
      "61/61 [==============================] - 2s 26ms/step - loss: 0.0026\n",
      "Epoch 13/25\n",
      "61/61 [==============================] - 2s 26ms/step - loss: 0.0026\n",
      "Epoch 14/25\n",
      "61/61 [==============================] - 2s 26ms/step - loss: 0.0021\n",
      "Epoch 15/25\n",
      "61/61 [==============================] - 2s 26ms/step - loss: 0.0025\n",
      "Epoch 16/25\n",
      "61/61 [==============================] - 2s 26ms/step - loss: 0.0025\n",
      "Epoch 17/25\n",
      "61/61 [==============================] - 2s 26ms/step - loss: 0.0020\n",
      "Epoch 18/25\n",
      "61/61 [==============================] - 2s 26ms/step - loss: 0.0022\n",
      "Epoch 19/25\n",
      "61/61 [==============================] - 2s 26ms/step - loss: 0.0026\n",
      "Epoch 20/25\n",
      "61/61 [==============================] - 2s 26ms/step - loss: 0.0020\n",
      "Epoch 21/25\n",
      "61/61 [==============================] - 2s 26ms/step - loss: 0.0018\n",
      "Epoch 22/25\n",
      "61/61 [==============================] - 2s 26ms/step - loss: 0.0018\n",
      "Epoch 23/25\n",
      "61/61 [==============================] - 2s 27ms/step - loss: 0.0019\n",
      "Epoch 24/25\n",
      "61/61 [==============================] - 2s 26ms/step - loss: 0.0017\n",
      "Epoch 25/25\n",
      "61/61 [==============================] - 2s 27ms/step - loss: 0.0018\n"
     ]
    }
   ],
   "source": [
    "model = Sequential()\n",
    "\n",
    "model.add(LSTM(units=50, return_sequences=True, input_shape=(x_train.shape[1], 1)))\n",
    "model.add(Dropout(0.2))\n",
    "model.add(LSTM(units=50, return_sequences=True))\n",
    "model.add(Dropout(0.2))\n",
    "model.add(LSTM(units=50))\n",
    "model.add(Dropout(0.2))\n",
    "model.add(Dense(1))\n",
    "\n",
    "model.compile(optimizer='adam', loss='mean_squared_error')\n",
    "model.fit(x_train, y_train, epochs=25, batch_size=32)\n",
    "\n",
    "model.save('models/model.h5')\n",
    "\n",
    "\n",
    "model = load_model('models/model.h5')"
   ]
  },
  {
   "cell_type": "code",
   "execution_count": 8,
   "id": "f5f3d58d-8445-4000-8e60-136d173939b0",
   "metadata": {},
   "outputs": [],
   "source": [
    "# Load Test Data\n",
    "\n",
    "test_start = dt.datetime(2020, 1, 1)\n",
    "test_end = dt.datetime(2021, 6, 1)\n",
    "\n",
    "test_data = web.DataReader(company, 'yahoo', test_start, test_end)\n",
    "actual_prices = test_data['Close'].values\n",
    "\n",
    "total_dataset = pd.concat((data['Close'], test_data['Close']))\n",
    "\n",
    "model_inputs = total_dataset[len(total_dataset) - len(test_data) - prediction_days:].values\n",
    "model_inputs = model_inputs.reshape(-1, 1)\n",
    "model_inputs = scalar.transform(model_inputs)"
   ]
  },
  {
   "cell_type": "code",
   "execution_count": 9,
   "id": "b63ffbde-632e-4c6c-aaeb-914d8cc7fa5a",
   "metadata": {},
   "outputs": [],
   "source": [
    "# Make Predictions on Test Data\n",
    "\n",
    "x_test = []\n",
    "\n",
    "for x in range(prediction_days, len(model_inputs)):\n",
    "    x_test.append(model_inputs[x - prediction_days:x, 0])\n",
    "\n",
    "x_test = np.array(x_test)\n",
    "x_test = np.reshape(x_test, (x_test.shape[0], x_test.shape[1], 1))\n",
    "\n",
    "predicted_prices = model.predict(x_test)\n",
    "predicted_prices = scalar.inverse_transform(predicted_prices)"
   ]
  },
  {
   "cell_type": "code",
   "execution_count": 10,
   "id": "ddbaad7f-3f66-44d8-8578-eda146faefb5",
   "metadata": {},
   "outputs": [
    {
     "data": {
      "image/png": "[encoded data removed]",
      "text/plain": [
       "<Figure size 432x288 with 1 Axes>"
      ]
     },
     "metadata": {
      "needs_background": "light"
     },
     "output_type": "display_data"
    }
   ],
   "source": [
    "# Plot Predictions\n",
    "\n",
    "plt.plot(actual_prices, color='black', label=f'Actual {company} prices')\n",
    "plt.plot(predicted_prices, color='green', label=f'Predicted {company} prices')\n",
    "plt.title(f'{company} Share Price')\n",
    "plt.xlabel('Time')\n",
    "plt.ylabel('Price')\n",
    "plt.legend()\n",
    "plt.show()"
   ]
  }
 ],
 "metadata": {
  "kernelspec": {
   "display_name": "Python 3 (ipykernel)",
   "language": "python",
   "name": "python3"
  },
  "language_info": {
   "codemirror_mode": {
    "name": "ipython",
    "version": 3
   },
   "file_extension": ".py",
   "mimetype": "text/x-python",
   "name": "python",
   "nbconvert_exporter": "python",
   "pygments_lexer": "ipython3",
   "version": "3.8.12"
  }
 },
 "nbformat": 4,
 "nbformat_minor": 5
}
